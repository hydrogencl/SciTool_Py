{
 "cells": [
  {
   "cell_type": "code",
   "execution_count": 1,
   "metadata": {},
   "outputs": [],
   "source": [
    "import math,re\n",
    "import matplotlib.pyplot as PLT\n",
    "import numpy as NP\n",
    "import random as RN\n",
    "%matplotlib inline"
   ]
  },
  {
   "cell_type": "code",
   "execution_count": 2,
   "metadata": {},
   "outputs": [],
   "source": [
    "# This document is based on my note of reviewing Advanced Engineering Mathematics\n",
    "# by Kreyszig 9th and Numerical Methods Using Matlab by Mathew & Fink. \n",
    "#\n",
    "# Here is based on 19th chapter"
   ]
  },
  {
   "cell_type": "markdown",
   "metadata": {},
   "source": [
    "# Functions using here"
   ]
  },
  {
   "cell_type": "code",
   "execution_count": 3,
   "metadata": {},
   "outputs": [],
   "source": [
    "\n",
    "def func_xm(x,func_param):\n",
    "    # function of x by m order.\n",
    "    # How many params means how many order-1. \n",
    "    # When y=ax+b, func_param should include 2 variables as [b,a].\n",
    "    num_result = 0.0\n",
    "    for n in range(len(func_param)):\n",
    "        num_result += func_param[n] * x ** n\n",
    "    return num_result\n",
    "\n",
    "def func_xm_dx(x,func_param):\n",
    "    # function of x by m order and dx.\n",
    "    # How many params means how many order-1. \n",
    "    # When y=ax+b, func_param should include 2 variables as [b,a].\n",
    "    num_result = 0.0\n",
    "    for n in range(1,len(func_param)):\n",
    "        num_result += n*func_param[n] * x ** (n-1)\n",
    "    return num_result"
   ]
  },
  {
   "cell_type": "code",
   "execution_count": 4,
   "metadata": {},
   "outputs": [],
   "source": [
    "def get_function(arr_xlim, func_f, func_param, dx=1.0):\n",
    "    dx   = dx\n",
    "    arr_y=[]\n",
    "    arr_x=list(range(arr_xlim[0],arr_xlim[1],1))\n",
    "    for n in range(len(arr_x)): arr_x[n] = arr_x[n]/dx\n",
    "    for x in arr_x:\n",
    "        arr_y.append(func_f(x, func_param))\n",
    "    return arr_x, arr_y"
   ]
  },
  {
   "cell_type": "code",
   "execution_count": 5,
   "metadata": {},
   "outputs": [],
   "source": [
    "def get_ans_fixpoint(x0, function, func_param):\n",
    "    arr_x_out=[x0]\n",
    "    for n in range(10):\n",
    "        arr_x_out.append(function(arr_x_out[n], func_param))\n",
    "    return arr_x_out"
   ]
  },
  {
   "cell_type": "code",
   "execution_count": 6,
   "metadata": {},
   "outputs": [],
   "source": [
    "def func_hyperbo_x(x,func_param):\n",
    "    return func_param[2]*x**2 + func_param[1]*x + func_param[0]\n",
    "\n",
    "def func_hyperbo_x_dx(x,func_param):\n",
    "    return 2*func_param[1]*x + func_param[0]\n",
    "\n",
    "def func_strait_x(x,func_param):\n",
    "    return func_param[1] * x + func_param[0]\n",
    "\n",
    "def get_func_straitlized_inform(func, func_dx, func_param, x0=0 ):\n",
    "    num_y0 = func(x0, func_param)\n",
    "    num_b  = func(x0, func_param) - func_dx(x0, func_param) * x0\n",
    "    num_a  = func_dx(x0, func_param)\n",
    "    return num_b, num_a"
   ]
  },
  {
   "cell_type": "code",
   "execution_count": 7,
   "metadata": {},
   "outputs": [],
   "source": [
    "def newton_raphson(x0, func, func_dx, func_param):\n",
    "    x1 = x0 - func(x0,func_param) / func_dx(x0, func_param)\n",
    "    return x1"
   ]
  },
  {
   "cell_type": "code",
   "execution_count": 8,
   "metadata": {},
   "outputs": [],
   "source": [
    "def arr_x_y(func,func_param=[],arr_xlim=[]):\n",
    "    # get list of y from func(x) within the range of xlim\n",
    "    arr_out=[]\n",
    "    if arr_xlim == []:\n",
    "        arr_xlim = [-10,10,0.1]\n",
    "    if func_param == []:\n",
    "        for n in NP.arange(arr_xlim[0], arr_xlim[1], arr_xlim[2]):\n",
    "            arr_out.append(func(n))\n",
    "    else:\n",
    "        for n in NP.arange(arr_xlim[0], arr_xlim[1], arr_xlim[2]):\n",
    "            arr_out.append(func(n, func_param))\n",
    "    return arr_out"
   ]
  },
  {
   "cell_type": "code",
   "execution_count": 12,
   "metadata": {},
   "outputs": [],
   "source": [
    "def full_NewtonRaphson(func, func_dx, func_param, x0, arr_xlim=[], num_iter=10):\n",
    "    # Findning the root from Newton-Raphson method\n",
    "    arr_x          = list(NP.arange(arr_xlim[0],arr_xlim[1],arr_xlim[2]))\n",
    "    arr_y          = []\n",
    "    \n",
    "    \n",
    "    arr_x0         = [x0]\n",
    "    arr_num_b_a    = [] \n",
    "    \n",
    "    for n in range(len(arr_x)): arr_y.append(func(arr_x[n],func_param))\n",
    "    \n",
    "        \n",
    "    PLT.plot(arr_x,arr_y,'b')\n",
    "    PLT.plot(arr_x,[0.0 for n in range(len(arr_x))], \"r\")\n",
    "    print(\"---------------------Result start of line------------------\")\n",
    "    for d in range(1,num_iter):\n",
    "        \n",
    "        arr_y_dx       = []\n",
    "        arr_y_dx_line0 = []\n",
    "        for n in range(len(arr_x)): \n",
    "            arr_y_dx.append(func_dx(arr_x[n],func_param))\n",
    "        \n",
    "        arr_num_b_a .append(get_func_straitlized_inform(func, func_dx, func_param, x0=arr_x0[d-1]))\n",
    "        for n in range(len(arr_x)): \n",
    "            arr_y_dx_line0.append(func_strait_x(arr_x[n], arr_num_b_a[d-1]))\n",
    "        x1_0 = newton_raphson(arr_x0[d-1], func, func_dx, func_param)\n",
    "        arr_x0.append(x1_0)\n",
    "        num_err = arr_x0[d] - arr_x0[d-1]\n",
    "        \n",
    "        print(\"xn= \",arr_x0[d-1], \"err= \", num_err )\n",
    "    \n",
    "        PLT.plot(arr_x,arr_y_dx_line0,\"g:\")\n",
    "        PLT.plot(arr_x0[d-1], func(arr_x0[d-1], func_param), \"ko\",fillstyle='none' )\n",
    "        PLT.plot(arr_x0[d]  , func(arr_x0[d], func_param)  , \"ko\",fillstyle='none' )\n",
    "\n",
    "    print(\"---------------------Result end of line------------------\")"
   ]
  },
  {
   "cell_type": "code",
   "execution_count": 13,
   "metadata": {},
   "outputs": [],
   "source": [
    "# Examples\n",
    "def func_sinx(x,func_param):\n",
    "    #a x + b sin(c x) + d\n",
    "    return func_param[0] * x + func_param[1] * math.sin(func_param[2]*x) + func_param[3]\n",
    "\n",
    "def func_sinx_dx(x,func_param):\n",
    "    return func_param[0] + func_param[1] * func_param[2] * math.cos(func_param[2]*x)"
   ]
  },
  {
   "cell_type": "code",
   "execution_count": 14,
   "metadata": {},
   "outputs": [
    {
     "name": "stdout",
     "output_type": "stream",
     "text": [
      "---------------------Result start of line------------------\n",
      "xn=  0.5 err=  -0.6076168810751763\n",
      "xn=  -0.10761688107517631 err=  0.10845653643856883\n",
      "xn=  0.0008396553633925191 err=  -0.0008396557580426178\n",
      "xn=  -3.946500987334414e-10 err=  3.946500987334414e-10\n",
      "xn=  0.0 err=  0.0\n",
      "xn=  0.0 err=  0.0\n",
      "xn=  0.0 err=  0.0\n",
      "xn=  0.0 err=  0.0\n",
      "xn=  0.0 err=  0.0\n",
      "---------------------Result end of line------------------\n"
     ]
    },
    {
     "data": {
      "image/png": "[encoded data removed]",
      "text/plain": [
       "<Figure size 432x288 with 1 Axes>"
      ]
     },
     "metadata": {
      "needs_background": "light"
     },
     "output_type": "display_data"
    }
   ],
   "source": [
    "# TEST OF FUNCTION\n",
    "arr_x = list(NP.arange(-10,10,0.1))\n",
    "arr_y=[]\n",
    "func_param=[1,-2,1,0]\n",
    "for n in range(len(arr_x)): arr_y.append(func_sinx(arr_x[n],func_param))\n",
    "full_NewtonRaphson(func_sinx, func_sinx_dx, func_param, x0=0.5, arr_xlim=[-10,10,0.1], num_iter=10)"
   ]
  },
  {
   "cell_type": "markdown",
   "metadata": {},
   "source": [
    "## The Least Squares Methods:\n",
    "### M&F, Chapter 5"
   ]
  },
  {
   "cell_type": "markdown",
   "metadata": {},
   "source": [
    "$$ y_k = A x_k + B $$\n",
    "$$ (\\sum x_k^2) A + (\\sum x_k) B = (\\sum x_k y_k) $$\n",
    "$$ (\\sum x_k) A + NB = (\\sum y_k) $$\n",
    "\n",
    "$$ E(A,B) = (\\sum (A x_k + B - y_k) ^2 = \\sum d_k^2 $$\n",
    "$$ \\frac{\\partial E(A,B)}{\\partial A} = \\sum 2(A x_k + B - y_k)(x_k) = 0 $$\n",
    "$$ \\frac{\\partial E(A,B)}{\\partial B} = \\sum 2(A x_k + B - y_k) = 0 $$\n",
    "$$ (1) A \\sum x_k ^2 + B \\sum x_k - \\sum x_k y_k = 0$$\n",
    "$$ (2) A \\sum x_k  +  \\sum B - \\sum y_k = 0$$"
   ]
  },
  {
   "cell_type": "code",
   "execution_count": 15,
   "metadata": {},
   "outputs": [],
   "source": [
    "def sum_sq(arr_in):\n",
    "    num_ans = 0\n",
    "    for n in range(len(arr_in)):\n",
    "        num_ans += arr_in[n] ** 2\n",
    "    return num_ans\n",
    "def sum_xy(arr_in1, arr_in2):\n",
    "    num_ans = 0\n",
    "    for n in range(len(arr_in1)):\n",
    "        num_ans += arr_in1[n] * arr_in2[n] \n",
    "    return num_ans"
   ]
  },
  {
   "cell_type": "code",
   "execution_count": 16,
   "metadata": {},
   "outputs": [],
   "source": [
    "def finding_AXB_LSM(arr_in1, arr_in2):\n",
    "    #arr_in1 = X, arr_in2 = Y\n",
    "    err = 0\n",
    "    C1 = sum_sq(x)\n",
    "    C2 = sum(x)\n",
    "    C3 = sum_xy(x,y)\n",
    "    \n",
    "    C4 = C2\n",
    "    C5 = len(arr_in1)\n",
    "    C6 = sum(arr_in2)\n",
    "    \n",
    "    if C1 == 0:\n",
    "        B = float(C3)/float(C2)\n",
    "        A = (C6-C5*B)/float(C4)\n",
    "    elif C4 ==0:\n",
    "        B = float(C6)/float(C5)\n",
    "        A = (C3-C2*B)/float(C1)\n",
    "    else:\n",
    "        C5P = C5 - C2 * C4 / C1\n",
    "        C6P = C6 - C3 * C4 / C1\n",
    "        B   = C6P/C5P\n",
    "        A   = (C3-C2*B)/C1\n",
    "    \n",
    "    return A,B,err"
   ]
  },
  {
   "cell_type": "code",
   "execution_count": 17,
   "metadata": {},
   "outputs": [],
   "source": [
    "# Gauss-Jordan Elimination\n",
    "def GaussJordanEli(arr_in):\n",
    "    # First check array dimention\n",
    "    num_ydim = len(arr_in)\n",
    "    num_xdim = len(arr_in[0])\n",
    "    arr_out = arr_in\n",
    "    \n",
    "    if num_ydim -num_xdim == 0 or num_xdim - num_ydim == 1:\n",
    "        arr_i   = NP.array([[0.0 for j in range(num_ydim)] for i in range(num_ydim)])\n",
    "        for ny in range(num_ydim):\n",
    "            arr_i[ny][ny] = 1.0\n",
    "        print(arr_i)\n",
    "        for nx in range(num_xdim):                        \n",
    "            for ny in range(nx+1, num_ydim):\n",
    "                arr_i  [ny] = arr_i  [ny] - arr_i  [nx] * arr_out[ny][nx] / float(arr_out[nx][nx])\n",
    "                arr_out[ny] = arr_out[ny] - arr_out[nx] * arr_out[ny][nx] / float(arr_out[nx][nx])\n",
    "        if num_xdim - num_ydim == 1:\n",
    "            for nx in range(num_xdim-1,-1,-1):                        \n",
    "                for ny in range(num_ydim-1,nx, -1):\n",
    "                    print(nx,ny)\n",
    "                    arr_i  [nx] = arr_i  [nx] - arr_i  [ny] * arr_out[nx][ny] / float(arr_out[ny][ny])\n",
    "                    arr_out[nx] = arr_out[nx] - arr_out[ny] * arr_out[nx][ny] / float(arr_out[ny][ny])\n",
    "        else:\n",
    "            for nx in range(num_xdim,-1,-1):                        \n",
    "                for ny in range(num_ydim-1, nx, -1):\n",
    "                    print(nx,ny)\n",
    "                    arr_i  [nx] = arr_i  [nx] - arr_i  [ny] * arr_out[nx][ny] / float(arr_out[ny][ny])\n",
    "                    arr_out[nx] = arr_out[nx] - arr_out[ny] * arr_out[nx][ny] / float(arr_out[ny][ny])\n",
    "                \n",
    "        if num_xdim - num_ydim == 1:\n",
    "            arr_sol = [0.0 for n in range(num_ydim)]\n",
    "            for ny in range(num_ydim):\n",
    "                arr_sol[ny] = arr_out[ny][num_xdim-1]/arr_out[ny][ny]\n",
    "            return arr_out, arr_i, arr_sol\n",
    "        else:\n",
    "            return arr_out, arr_i\n",
    "    else:\n",
    "        print(\"Y dim: {0:d}, X dim: {1:d}: can not apply Gaussian-Jordan\".format(num_ydim, num_xdim))\n",
    "        return [0]"
   ]
  },
  {
   "cell_type": "code",
   "execution_count": 18,
   "metadata": {},
   "outputs": [],
   "source": [
    "def finding_XM_LSM(arr_in1, arr_in2, m=2):\n",
    "    # Finding the by least square method\n",
    "    arr_out=[[0.0 for i in range(m+2)] for j in range(m+1)]\n",
    "    arr_x_power_m  = [0.0 for i in range(m+m+1)]\n",
    "    arr_xy_power_m = [0.0 for i in range(m+1)]\n",
    "    for n in range(len(arr_x_power_m)):\n",
    "        for x in range(len(arr_in1)):\n",
    "            arr_x_power_m[n] += arr_in1[x] ** n\n",
    "    \n",
    "    for n in range(len(arr_xy_power_m)):\n",
    "        for x in range(len(arr_in1)):\n",
    "            arr_xy_power_m[n] += arr_in1[x] ** n * arr_in2[x]\n",
    "    \n",
    "    for j in range(m+1):\n",
    "        for i in range(j,j+m+1):\n",
    "            arr_out[j][i-j] = arr_x_power_m[i]\n",
    "        arr_out[j][m+1]   = arr_xy_power_m[j]\n",
    "    \n",
    "    return arr_out"
   ]
  },
  {
   "cell_type": "code",
   "execution_count": 22,
   "metadata": {},
   "outputs": [
    {
     "name": "stdout",
     "output_type": "stream",
     "text": [
      "[[1. 0. 0. 0.]\n",
      " [0. 1. 0. 0.]\n",
      " [0. 0. 1. 0.]\n",
      " [0. 0. 0. 1.]]\n",
      "2 3\n",
      "1 3\n",
      "1 2\n",
      "0 3\n",
      "0 2\n",
      "0 1\n",
      "[8.489051718380832, 23.6749041109296, -12.639887625996979, -4.28437422981001]\n"
     ]
    },
    {
     "data": {
      "text/plain": [
       "<matplotlib.legend.Legend at 0x7fe6c2773668>"
      ]
     },
     "execution_count": 22,
     "metadata": {},
     "output_type": "execute_result"
    },
    {
     "data": {
      "image/png": "[encoded data removed]",
      "text/plain": [
       "<Figure size 432x288 with 1 Axes>"
      ]
     },
     "metadata": {
      "needs_background": "light"
     },
     "output_type": "display_data"
    }
   ],
   "source": [
    "\n",
    "# Example 1\n",
    "arr_x = NP.arange(-1,1.5,0.01)\n",
    "func_param=[1,20,-8,2,-6]\n",
    "arr_y = arr_x_y(func_xm, func_param, arr_xlim=[-1,1.5,0.01])\n",
    "arr_y2 = [0.0 for n in range(len(arr_y))]\n",
    "for n in range(len(arr_y2)):\n",
    "    arr_y2[n] += arr_y[n] + RN.random()*15\n",
    "                           \n",
    "#print(arr_y)\n",
    "PLT.plot(arr_x,arr_y)\n",
    "PLT.plot(arr_x, arr_y2, \"ro\")\n",
    "arr_b = finding_XM_LSM(arr_x,arr_y2, m=3)\n",
    "s=GaussJordanEli(NP.array(arr_b))[2]\n",
    "print(s)\n",
    "arr_lineYX = arr_x_y(func_xm,func_param=s, arr_xlim=[-1,1.5,0.01])\n",
    "#PLT.plot(x,y,\"ro\")\n",
    "\n",
    "#print(arr_lineYX)\n",
    "PLT.plot(list(NP.arange(-1,1.5,0.01)),arr_lineYX, \"k\")\n",
    "PLT.legend([\"Prescribe\",\"random dots\",\"regression\"])"
   ]
  },
  {
   "cell_type": "code",
   "execution_count": 35,
   "metadata": {},
   "outputs": [
    {
     "name": "stdout",
     "output_type": "stream",
     "text": [
      "[[1. 0. 0. 0.]\n",
      " [0. 1. 0. 0.]\n",
      " [0. 0. 1. 0.]\n",
      " [0. 0. 0. 1.]]\n",
      "2 3\n",
      "1 3\n",
      "1 2\n",
      "0 3\n",
      "0 2\n",
      "0 1\n",
      "[2.8464240325824854, 0.04818734017380904, 0.21133491199837, -0.005977306159431835]\n"
     ]
    },
    {
     "data": {
      "text/plain": [
       "[<matplotlib.lines.Line2D at 0x7f2c40aaf978>]"
      ]
     },
     "execution_count": 35,
     "metadata": {},
     "output_type": "execute_result"
    },
    {
     "data": {
      "image/png": "[encoded data removed]",
      "text/plain": [
       "<Figure size 432x288 with 1 Axes>"
      ]
     },
     "metadata": {
      "needs_background": "light"
     },
     "output_type": "display_data"
    }
   ],
   "source": [
    "# Example 2\n",
    "arr_x = [0,1,2,3,4,5,6, 7, 8, 9,10,11,12,16]\n",
    "arr_y = [3,2,5,4,7,8,9,11,14,15,19,20,25,33]\n",
    "PLT.plot(arr_x, arr_y,\"ro\")\n",
    "arr_b = finding_XM_LSM(arr_x,arr_y, m=3)\n",
    "s=GaussJordanEli(NP.array(arr_b))[2]\n",
    "print(s)\n",
    "arr_lineYX = arr_x_y(func_xm,func_param=s, arr_xlim=[0,20,0.1])\n",
    "PLT.plot(list(NP.arange(0,20,0.1)),arr_lineYX)"
   ]
  },
  {
   "cell_type": "code",
   "execution_count": 49,
   "metadata": {},
   "outputs": [
    {
     "name": "stdout",
     "output_type": "stream",
     "text": [
      "[[1. 0. 0. 0. 0. 0.]\n",
      " [0. 1. 0. 0. 0. 0.]\n",
      " [0. 0. 1. 0. 0. 0.]\n",
      " [0. 0. 0. 1. 0. 0.]\n",
      " [0. 0. 0. 0. 1. 0.]\n",
      " [0. 0. 0. 0. 0. 1.]]\n",
      "4 5\n",
      "3 5\n",
      "3 4\n",
      "2 5\n",
      "2 4\n",
      "2 3\n",
      "1 5\n",
      "1 4\n",
      "1 3\n",
      "1 2\n",
      "0 5\n",
      "0 4\n",
      "0 3\n",
      "0 2\n",
      "0 1\n",
      "[502.72549019605805, -398.9418313884206, 445.8490116694448, -63.43666150670795, 5.06799237913789, -0.1396463443677066]\n"
     ]
    },
    {
     "data": {
      "text/plain": [
       "[<matplotlib.lines.Line2D at 0x7f2c0f54dbe0>]"
      ]
     },
     "execution_count": 49,
     "metadata": {},
     "output_type": "execute_result"
    },
    {
     "data": {
      "image/png": "[encoded data removed]",
      "text/plain": [
       "<Figure size 432x288 with 1 Axes>"
      ]
     },
     "metadata": {
      "needs_background": "light"
     },
     "output_type": "display_data"
    }
   ],
   "source": [
    "# Example 2\n",
    "arr_x = [0,1,2,3,4,5,6, 7, 8, 9,10,11,12,13,14,15,16]\n",
    "arr_y = [440,517,1287,1975,2744,4515,5974,7711,9692,11791,14380,17205,20438,24313,28007,31161,34121]\n",
    "PLT.plot(arr_x, arr_y,\"ro\")\n",
    "arr_b = finding_XM_LSM(arr_x,arr_y, m=5)\n",
    "s=GaussJordanEli(NP.array(arr_b))[2]\n",
    "print(s)\n",
    "arr_lineYX = arr_x_y(func_xm,func_param=s, arr_xlim=[0,17,0.1])\n",
    "PLT.plot(list(NP.arange(0,17,0.1)),arr_lineYX)"
   ]
  },
  {
   "cell_type": "code",
   "execution_count": 53,
   "metadata": {},
   "outputs": [
    {
     "ename": "AttributeError",
     "evalue": "module 'matplotlib.pyplot' has no attribute 'set_lim'",
     "output_type": "error",
     "traceback": [
      "\u001b[0;31m---------------------------------------------------------------------------\u001b[0m",
      "\u001b[0;31mAttributeError\u001b[0m                            Traceback (most recent call last)",
      "\u001b[0;32m<ipython-input-53-29403d147a1b>\u001b[0m in \u001b[0;36m<module>\u001b[0;34m\u001b[0m\n\u001b[1;32m      1\u001b[0m \u001b[0marr_lineYX\u001b[0m \u001b[0;34m=\u001b[0m \u001b[0marr_x_y\u001b[0m\u001b[0;34m(\u001b[0m\u001b[0mfunc_xm\u001b[0m\u001b[0;34m,\u001b[0m\u001b[0mfunc_param\u001b[0m\u001b[0;34m=\u001b[0m\u001b[0ms\u001b[0m\u001b[0;34m,\u001b[0m \u001b[0marr_xlim\u001b[0m\u001b[0;34m=\u001b[0m\u001b[0;34m[\u001b[0m\u001b[0;36m0\u001b[0m\u001b[0;34m,\u001b[0m\u001b[0;36m30\u001b[0m\u001b[0;34m,\u001b[0m\u001b[0;36m0.1\u001b[0m\u001b[0;34m]\u001b[0m\u001b[0;34m)\u001b[0m\u001b[0;34m\u001b[0m\u001b[0;34m\u001b[0m\u001b[0m\n\u001b[1;32m      2\u001b[0m \u001b[0mPLT\u001b[0m\u001b[0;34m.\u001b[0m\u001b[0mplot\u001b[0m\u001b[0;34m(\u001b[0m\u001b[0mlist\u001b[0m\u001b[0;34m(\u001b[0m\u001b[0mNP\u001b[0m\u001b[0;34m.\u001b[0m\u001b[0marange\u001b[0m\u001b[0;34m(\u001b[0m\u001b[0;36m0\u001b[0m\u001b[0;34m,\u001b[0m\u001b[0;36m30\u001b[0m\u001b[0;34m,\u001b[0m\u001b[0;36m0.1\u001b[0m\u001b[0;34m)\u001b[0m\u001b[0;34m)\u001b[0m\u001b[0;34m,\u001b[0m\u001b[0marr_lineYX\u001b[0m\u001b[0;34m)\u001b[0m\u001b[0;34m\u001b[0m\u001b[0;34m\u001b[0m\u001b[0m\n\u001b[0;32m----> 3\u001b[0;31m \u001b[0mPLT\u001b[0m\u001b[0;34m.\u001b[0m\u001b[0mset_lim\u001b[0m\u001b[0;34m(\u001b[0m\u001b[0;36m0\u001b[0m\u001b[0;34m,\u001b[0m\u001b[0mPLT\u001b[0m\u001b[0;34m.\u001b[0m\u001b[0mget_ylim\u001b[0m\u001b[0;34m(\u001b[0m\u001b[0;34m)\u001b[0m\u001b[0;34m[\u001b[0m\u001b[0;36m1\u001b[0m\u001b[0;34m]\u001b[0m\u001b[0;34m)\u001b[0m\u001b[0;34m\u001b[0m\u001b[0;34m\u001b[0m\u001b[0m\n\u001b[0m",
      "\u001b[0;31mAttributeError\u001b[0m: module 'matplotlib.pyplot' has no attribute 'set_lim'"
     ]
    },
    {
     "data": {
      "image/png": "[encoded data removed]",
      "text/plain": [
       "<Figure size 432x288 with 1 Axes>"
      ]
     },
     "metadata": {
      "needs_background": "light"
     },
     "output_type": "display_data"
    }
   ],
   "source": [
    "arr_lineYX = arr_x_y(func_xm,func_param=s, arr_xlim=[0,30,0.1])\n",
    "PLT.plot(list(NP.arange(0,30,0.1)),arr_lineYX)\n"
   ]
  },
  {
   "cell_type": "code",
   "execution_count": null,
   "metadata": {},
   "outputs": [],
   "source": []
  }
 ],
 "metadata": {
  "kernelspec": {
   "display_name": "Python 3",
   "language": "python",
   "name": "python3"
  },
  "language_info": {
   "codemirror_mode": {
    "name": "ipython",
    "version": 3
   },
   "file_extension": ".py",
   "mimetype": "text/x-python",
   "name": "python",
   "nbconvert_exporter": "python",
   "pygments_lexer": "ipython3",
   "version": "3.6.9"
  }
 },
 "nbformat": 4,
 "nbformat_minor": 2
}
